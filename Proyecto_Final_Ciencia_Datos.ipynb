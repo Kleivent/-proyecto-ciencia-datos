{
 "cells": [
  {
   "cell_type": "markdown",
   "id": "5c6efa55-1087-4102-bb13-b09ea83a9b5f",
   "metadata": {},
   "source": [
    "# Proyecto Final - Introducción a la Ciencia de Datos"
   ]
  },
  {
   "cell_type": "markdown",
   "id": "050a428d-3bf1-4bb5-8243-d33c3890ad3b",
   "metadata": {},
   "source": [
    "## Introducción  \n",
    "Este cuaderno contiene información sobre herramientas, lenguajes y bibliotecas utilizadas en la Ciencia de Datos. Además, incluye ejemplos de operaciones aritméticas y conversión de unidades.\n"
   ]
  },
  {
   "cell_type": "markdown",
   "id": "fbe09f7a-651e-4c1c-bc3a-4d6ee974192e",
   "metadata": {},
   "source": [
    "## Lenguajes de Programación en Ciencia de Datos  \n",
    "Algunos de los lenguajes más utilizados en Ciencia de Datos incluyen:  \n",
    "- Python  \n",
    "- R  \n",
    "- SQL  \n",
    "- Julia  \n",
    "- Scala  "
   ]
  },
  {
   "cell_type": "markdown",
   "id": "7ad409ff-789d-4229-bc83-f2890ee032d3",
   "metadata": {},
   "source": [
    "## Bibliotecas de Ciencia de Datos  \n",
    "Las bibliotecas más populares en Ciencia de Datos son:  \n",
    "- **Python**: Pandas, NumPy, Matplotlib, Scikit-learn  \n",
    "- **R**: ggplot2, dplyr, caret  \n",
    "- **SQL**: SQLite, PostgreSQL  \n"
   ]
  },
  {
   "cell_type": "markdown",
   "id": "c15624d7-8676-4af2-9fe6-1e79b00924fb",
   "metadata": {},
   "source": [
    "## Herramientas de Ciencia de Datos  \n",
    "| Herramienta           | Uso principal               |\n",
    "|----------------------|---------------------------|\n",
    "| Jupyter Notebook    | Desarrollo y documentación |\n",
    "| RStudio            | Análisis con R             |\n",
    "| TensorFlow         | Aprendizaje automático     |\n",
    "| Power BI           | Visualización de datos     |\n",
    "| Apache Spark       | Procesamiento de datos     |\n"
   ]
  },
  {
   "cell_type": "markdown",
   "id": "76d43ed6-dc32-4f5a-a0a3-754309d6fffd",
   "metadata": {},
   "source": [
    "## Expresiones Aritméticas  \n",
    "Ejemplos de operaciones matemáticas en Python:  \n",
    "- Suma: `5 + 3 = 8`  \n",
    "- Multiplicación: `4 * 2 = 8`  \n",
    "- División: `10 / 2 = 5.0`  \n"
   ]
  },
  {
   "cell_type": "code",
   "execution_count": 12,
   "id": "11443039-f17b-492c-b08f-8051e2a11e66",
   "metadata": {},
   "outputs": [
    {
     "data": {
      "text/plain": [
       "17"
      ]
     },
     "execution_count": 12,
     "metadata": {},
     "output_type": "execute_result"
    }
   ],
   "source": [
    "# Multiplicación y suma\n",
    "resultado = (5 * 3) + 2\n",
    "resultado\n"
   ]
  },
  {
   "cell_type": "code",
   "execution_count": 14,
   "id": "68e00309-fed5-4652-8593-560041e0f876",
   "metadata": {},
   "outputs": [
    {
     "data": {
      "text/plain": [
       "2.5"
      ]
     },
     "execution_count": 14,
     "metadata": {},
     "output_type": "execute_result"
    }
   ],
   "source": [
    "# Conversión de minutos a horas\n",
    "minutos = 150\n",
    "horas = minutos / 60\n",
    "horas\n"
   ]
  },
  {
   "cell_type": "code",
   "execution_count": 16,
   "id": "e28cceca-a4cc-4941-be3f-7746333c8bb5",
   "metadata": {},
   "outputs": [
    {
     "name": "stdout",
     "output_type": "stream",
     "text": [
      "- Aprender Ciencia de Datos\n",
      "- Conocer herramientas\n",
      "- Aplicar técnicas estadísticas\n"
     ]
    }
   ],
   "source": [
    "# Objetivos del curso\n",
    "objetivos = [\"Aprender Ciencia de Datos\", \"Conocer herramientas\", \"Aplicar técnicas estadísticas\"]\n",
    "for objetivo in objetivos:\n",
    "    print(\"- \" + objetivo)\n"
   ]
  },
  {
   "cell_type": "markdown",
   "id": "f6eb5382-180b-4b6d-9bf8-76087fe34dca",
   "metadata": {},
   "source": [
    "## Autor  \n",
    "**Nombre: Francisca Vega**  \n"
   ]
  },
  {
   "cell_type": "code",
   "execution_count": null,
   "id": "4cbc8424-9dc2-43ea-8e30-0768264b41a6",
   "metadata": {},
   "outputs": [],
   "source": []
  }
 ],
 "metadata": {
  "kernelspec": {
   "display_name": "Python [conda env:base] *",
   "language": "python",
   "name": "conda-base-py"
  },
  "language_info": {
   "codemirror_mode": {
    "name": "ipython",
    "version": 3
   },
   "file_extension": ".py",
   "mimetype": "text/x-python",
   "name": "python",
   "nbconvert_exporter": "python",
   "pygments_lexer": "ipython3",
   "version": "3.12.7"
  }
 },
 "nbformat": 4,
 "nbformat_minor": 5
}
